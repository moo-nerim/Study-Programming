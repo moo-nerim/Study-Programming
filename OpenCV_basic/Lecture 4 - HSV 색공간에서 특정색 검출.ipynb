{
 "cells": [
  {
   "cell_type": "code",
   "execution_count": 1,
   "id": "9da2ac68",
   "metadata": {},
   "outputs": [],
   "source": [
    "import numpy as np\n",
    "import cv2"
   ]
  },
  {
   "cell_type": "markdown",
   "id": "cba28f85",
   "metadata": {},
   "source": [
    "## BGR -> HSV"
   ]
  },
  {
   "cell_type": "code",
   "execution_count": 2,
   "id": "da2c4620",
   "metadata": {},
   "outputs": [],
   "source": [
    "color = [255,0,0] # blue\n",
    "pixel = np.uint8([[color]])"
   ]
  },
  {
   "cell_type": "code",
   "execution_count": 3,
   "id": "c723eaad",
   "metadata": {},
   "outputs": [],
   "source": [
    "hsv = cv2.cvtColor(pixel, cv2.COLOR_BGR2HSV)\n",
    "hsv = hsv[0][0]"
   ]
  },
  {
   "cell_type": "code",
   "execution_count": 4,
   "id": "f46a4b53",
   "metadata": {},
   "outputs": [
    {
     "name": "stdout",
     "output_type": "stream",
     "text": [
      "bgr:  [255, 0, 0]\n",
      "hsv:  [120 255 255]\n"
     ]
    }
   ],
   "source": [
    "print(\"bgr: \",color)\n",
    "print(\"hsv: \",hsv)"
   ]
  },
  {
   "cell_type": "markdown",
   "id": "d03bbc0b",
   "metadata": {},
   "source": [
    "## 이미지에서 파란색 검출"
   ]
  },
  {
   "cell_type": "code",
   "execution_count": 5,
   "id": "ecf9e24a",
   "metadata": {},
   "outputs": [],
   "source": [
    "img_color = cv2.imread('./image/1.jpg')\n",
    "height, width = img_color.shape[:2] # 이미지 높이, 넓이 가져오기"
   ]
  },
  {
   "cell_type": "code",
   "execution_count": 6,
   "id": "edfa2b4d",
   "metadata": {},
   "outputs": [],
   "source": [
    "img_hsv = cv2.cvtColor(img_color, cv2.COLOR_BGR2HSV)"
   ]
  },
  {
   "cell_type": "code",
   "execution_count": 7,
   "id": "4f26e774",
   "metadata": {},
   "outputs": [],
   "source": [
    "# 영역 범위 지정\n",
    "lower_blue = (120-10, 30, 30)\n",
    "upper_blue = (120+10, 255, 255)\n",
    "\n",
    "# binary 이미지 얻기\n",
    "img_mask = cv2.inRange(img_hsv, lower_blue, upper_blue) # 파란색은 흰색, 나머지 색은 검은색"
   ]
  },
  {
   "cell_type": "code",
   "execution_count": 8,
   "id": "a0d07b68",
   "metadata": {},
   "outputs": [],
   "source": [
    "img_result = cv2.bitwise_and(img_color, img_color, mask = img_mask) # 파란색만 검출"
   ]
  },
  {
   "cell_type": "code",
   "execution_count": 9,
   "id": "dd786ff7",
   "metadata": {},
   "outputs": [],
   "source": [
    "cv2.imshow('img_color', img_color)\n",
    "cv2.imshow('img_mask', img_mask)\n",
    "cv2.imshow('img_result', img_result)"
   ]
  },
  {
   "cell_type": "code",
   "execution_count": 11,
   "id": "d10d6f17",
   "metadata": {},
   "outputs": [],
   "source": [
    "cv2.waitKey(0)\n",
    "cv2.destroyAllWindows()"
   ]
  }
 ],
 "metadata": {
  "kernelspec": {
   "display_name": "Python 3 (ipykernel)",
   "language": "python",
   "name": "python3"
  },
  "language_info": {
   "codemirror_mode": {
    "name": "ipython",
    "version": 3
   },
   "file_extension": ".py",
   "mimetype": "text/x-python",
   "name": "python",
   "nbconvert_exporter": "python",
   "pygments_lexer": "ipython3",
   "version": "3.9.6"
  }
 },
 "nbformat": 4,
 "nbformat_minor": 5
}

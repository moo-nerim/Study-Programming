{
 "cells": [
  {
   "cell_type": "code",
   "execution_count": null,
   "id": "db84aea1",
   "metadata": {},
   "outputs": [],
   "source": [
    "import numpy as np\n",
    "import cv2 as cv"
   ]
  },
  {
   "cell_type": "code",
   "execution_count": null,
   "id": "ef0bbfc8",
   "metadata": {},
   "outputs": [],
   "source": [
    "hsv = 0\n",
    "lower_blue1 = 0\n",
    "upper_blue1 = 0\n",
    "lower_blue2 = 0\n",
    "upper_blue2 = 0\n",
    "lower_blue3 = 0\n",
    "upper_blue3 = 0"
   ]
  },
  {
   "cell_type": "code",
   "execution_count": null,
   "id": "595b2ee9",
   "metadata": {},
   "outputs": [],
   "source": [
    "def mouse_callback(event, x, y, flags, param):\n",
    "    global hsv, lower_blue1, upper_blue1, lower_blue2, upper_blue2, lower_blue3, upper_blue3\n",
    "\n",
    "    # 마우스 왼쪽 버튼 누를시 위치에 있는 픽셀값을 읽어와서 HSV로 변환합니다.\n",
    "    if event == cv.EVENT_LBUTTONDOWN:\n",
    "        print(img_color[y, x])\n",
    "        color = img_color[y, x]\n",
    "\n",
    "        one_pixel = np.uint8([[color]])\n",
    "        hsv = cv.cvtColor(one_pixel, cv.COLOR_BGR2HSV)\n",
    "        hsv = hsv[0][0]\n",
    "\n",
    "        # HSV 색공간에서 마우스 클릭으로 얻은 픽셀값과 유사한 필셀값의 범위를 정합니다.\n",
    "        if hsv[0] < 10:\n",
    "            print(\"case1\")\n",
    "            lower_blue1 = np.array([hsv[0]-10+180, 30, 30])\n",
    "            upper_blue1 = np.array([180, 255, 255])\n",
    "            lower_blue2 = np.array([0, 30, 30])\n",
    "            upper_blue2 = np.array([hsv[0], 255, 255])\n",
    "            lower_blue3 = np.array([hsv[0], 30, 30])\n",
    "            upper_blue3 = np.array([hsv[0]+10, 255, 255])\n",
    "            #     print(i-10+180, 180, 0, i)\n",
    "            #     print(i, i+10)\n",
    "\n",
    "        elif hsv[0] > 170:\n",
    "            print(\"case2\")\n",
    "            lower_blue1 = np.array([hsv[0], 30, 30])\n",
    "            upper_blue1 = np.array([180, 255, 255])\n",
    "            lower_blue2 = np.array([0, 30, 30])\n",
    "            upper_blue2 = np.array([hsv[0]+10-180, 255, 255])\n",
    "            lower_blue3 = np.array([hsv[0]-10, 30, 30])\n",
    "            upper_blue3 = np.array([hsv[0], 255, 255])\n",
    "            #     print(i, 180, 0, i+10-180)\n",
    "            #     print(i-10, i)\n",
    "        else:\n",
    "            print(\"case3\")\n",
    "            lower_blue1 = np.array([hsv[0], 30, 30])\n",
    "            upper_blue1 = np.array([hsv[0]+10, 255, 255])\n",
    "            lower_blue2 = np.array([hsv[0]-10, 30, 30])\n",
    "            upper_blue2 = np.array([hsv[0], 255, 255])\n",
    "            lower_blue3 = np.array([hsv[0]-10, 30, 30])\n",
    "            upper_blue3 = np.array([hsv[0], 255, 255])\n",
    "            #     print(i, i+10)\n",
    "            #     print(i-10, i)\n",
    "\n",
    "        print(hsv[0])\n",
    "        print(\"@1\", lower_blue1, \"~\", upper_blue1)\n",
    "        print(\"@2\", lower_blue2, \"~\", upper_blue2)\n",
    "        print(\"@3\", lower_blue3, \"~\", upper_blue3)"
   ]
  },
  {
   "cell_type": "code",
   "execution_count": null,
   "id": "b24e6081",
   "metadata": {},
   "outputs": [],
   "source": [
    "cv.namedWindow('img_color')\n",
    "cv.setMouseCallback('img_color', mouse_callback)"
   ]
  },
  {
   "cell_type": "code",
   "execution_count": null,
   "id": "1503c977",
   "metadata": {},
   "outputs": [],
   "source": [
    "cap = cv.VideoCapture(0)"
   ]
  },
  {
   "cell_type": "code",
   "execution_count": null,
   "id": "1710e7e8",
   "metadata": {},
   "outputs": [],
   "source": [
    "while(True):\n",
    "    ret, img_color = cap.read()\n",
    "    height, width = img_color.shape[:2]\n",
    "    img_color = cv.resize(img_color, (width, height), interpolation=cv.INTER_AREA)\n",
    "\n",
    "    # 원본 영상을 HSV 영상으로 변환합니다.\n",
    "    img_hsv = cv2.cvtColor(img_color, cv.COLOR_BGR2HSV)\n",
    "\n",
    "    # 범위 값으로 HSV 이미지에서 마스크를 생성합니다.\n",
    "    img_mask1 = cv.inRange(img_hsv, lower_blue1, upper_blue1)\n",
    "    img_mask2 = cv.inRange(img_hsv, lower_blue2, upper_blue2)\n",
    "    img_mask3 = cv.inRange(img_hsv, lower_blue3, upper_blue3)\n",
    "    img_mask = img_mask1 | img_mask2 | img_mask3\n",
    "\n",
    "\n",
    "    # 마스크 이미지로 원본 이미지에서 범위값에 해당되는 영상 부분을 획득합니다.\n",
    "    img_result = cv.bitwise_and(img_color, img_color, mask=img_mask)\n",
    "\n",
    "\n",
    "    cv.imshow('img_color', img_color)\n",
    "    cv.imshow('img_mask', img_mask)\n",
    "    cv.imshow('img_result', img_result)\n",
    "\n",
    "\n",
    "    # ESC 키누르면 종료\n",
    "    if cv.waitKey(1) & 0xFF == 27:\n",
    "        break\n",
    "\n",
    "\n",
    "cv.destroyAllWindows()"
   ]
  }
 ],
 "metadata": {
  "kernelspec": {
   "display_name": "Python 3 (ipykernel)",
   "language": "python",
   "name": "python3"
  },
  "language_info": {
   "codemirror_mode": {
    "name": "ipython",
    "version": 3
   },
   "file_extension": ".py",
   "mimetype": "text/x-python",
   "name": "python",
   "nbconvert_exporter": "python",
   "pygments_lexer": "ipython3",
   "version": "3.9.6"
  }
 },
 "nbformat": 4,
 "nbformat_minor": 5
}

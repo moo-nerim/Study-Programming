{
 "cells": [
  {
   "cell_type": "code",
   "execution_count": 1,
   "id": "011a356a",
   "metadata": {},
   "outputs": [],
   "source": [
    "import cv2"
   ]
  },
  {
   "cell_type": "code",
   "execution_count": 2,
   "id": "cdcb43cb",
   "metadata": {},
   "outputs": [],
   "source": [
    "cap = cv2.VideoCapture(0) # 동영상에서 사진 캡처"
   ]
  },
  {
   "cell_type": "code",
   "execution_count": null,
   "id": "84d7287b",
   "metadata": {},
   "outputs": [],
   "source": [
    "ret, img_color = cap.read()"
   ]
  },
  {
   "cell_type": "code",
   "execution_count": null,
   "id": "d638ed04",
   "metadata": {},
   "outputs": [],
   "source": [
    "cv2.imshow(\"Color\", img_color)\n",
    "cv2.waitKey(0)\n",
    "\n",
    "# 메모리 해제\n",
    "cap.release()\n",
    "cv2.destroyAllWindows()"
   ]
  },
  {
   "cell_type": "markdown",
   "id": "b8e7401e",
   "metadata": {},
   "source": [
    "## 동영상 파일로 저장하기"
   ]
  },
  {
   "cell_type": "code",
   "execution_count": 3,
   "id": "522ee5d2",
   "metadata": {},
   "outputs": [],
   "source": [
    "# 코덱\n",
    "fourcc = cv2.VideoWriter_fourcc(*'XVID')\n",
    "writer = cv2.VideoWriter('./image/output.avi', fourcc, 30.0, (640,480)) # 1초에 30개의 이미지 가져옴, 이미지 크기"
   ]
  },
  {
   "cell_type": "code",
   "execution_count": 4,
   "id": "faccb65a",
   "metadata": {},
   "outputs": [],
   "source": [
    "# 동영상처럼 보일려면 무한반복\n",
    "while(True):\n",
    "    ret, img_color = cap.read()\n",
    "    \n",
    "    if ret == False: # 초기에 캡처 잘안되는 경우 방지\n",
    "        continue\n",
    "        \n",
    "    img_gray = cv2.cvtColor(img_color,cv2.COLOR_BGR2GRAY)\n",
    "    \n",
    "    cv2.imshow(\"Color\", img_color)\n",
    "    cv2.imshow(\"Gray\", img_gray)\n",
    "    \n",
    "    writer.write(img_color)\n",
    "        \n",
    "    if cv2.waitKey(1)&0XFF == 27: # 키보드 입력 시간을 줌\n",
    "        break\n",
    "        \n",
    "# 메모리 해제\n",
    "cap.release()\n",
    "writer.release()\n",
    "cv2.destroyAllWindows()"
   ]
  },
  {
   "cell_type": "markdown",
   "id": "95f4126c",
   "metadata": {},
   "source": [
    "## 동영상 파일 재생하기"
   ]
  },
  {
   "cell_type": "code",
   "execution_count": 6,
   "id": "f7da2067",
   "metadata": {},
   "outputs": [],
   "source": [
    "cap = cv2.VideoCapture('./image/output.avi') # 재생할 파일 이름"
   ]
  },
  {
   "cell_type": "code",
   "execution_count": 7,
   "id": "e7085a8f",
   "metadata": {},
   "outputs": [],
   "source": [
    "while(True):\n",
    "    ret, img_color = cap.read()\n",
    "    \n",
    "    if ret == False: \n",
    "        break\n",
    "        \n",
    "    img_gray = cv2.cvtColor(img_color,cv2.COLOR_BGR2GRAY)\n",
    "    \n",
    "    cv2.imshow(\"Color\", img_color)\n",
    "    cv2.imshow(\"Gray\", img_gray)\n",
    "    \n",
    "    writer.write(img_color)\n",
    "        \n",
    "    if cv2.waitKey(1)&0XFF == 27: # 키보드 입력 시간을 줌\n",
    "        break\n",
    "        \n",
    "# 메모리 해제\n",
    "cap.release()\n",
    "writer.release()\n",
    "cv2.destroyAllWindows()"
   ]
  }
 ],
 "metadata": {
  "kernelspec": {
   "display_name": "Python 3 (ipykernel)",
   "language": "python",
   "name": "python3"
  },
  "language_info": {
   "codemirror_mode": {
    "name": "ipython",
    "version": 3
   },
   "file_extension": ".py",
   "mimetype": "text/x-python",
   "name": "python",
   "nbconvert_exporter": "python",
   "pygments_lexer": "ipython3",
   "version": "3.9.6"
  }
 },
 "nbformat": 4,
 "nbformat_minor": 5
}

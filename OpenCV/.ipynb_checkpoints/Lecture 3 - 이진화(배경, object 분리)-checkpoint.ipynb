{
 "cells": [
  {
   "cell_type": "code",
   "execution_count": 1,
   "id": "4eec0474",
   "metadata": {},
   "outputs": [],
   "source": [
    "import cv2"
   ]
  },
  {
   "cell_type": "code",
   "execution_count": 2,
   "id": "daa89672",
   "metadata": {},
   "outputs": [],
   "source": [
    "# threshold 트랙바\n",
    "def nothing(x):\n",
    "    pass"
   ]
  },
  {
   "cell_type": "code",
   "execution_count": 3,
   "id": "4374fb53",
   "metadata": {},
   "outputs": [],
   "source": [
    "# threshold 트랙바\n",
    "cv2.namedWindow('Binary')\n",
    "cv2.createTrackbar('threshold','Binary', 0, 255, nothing) # binary에 붙임, 최소값, 최대값\n",
    "cv2.setTrackbarPos('threshold', 'Binary', 127)"
   ]
  },
  {
   "cell_type": "code",
   "execution_count": 4,
   "id": "a269a8da",
   "metadata": {},
   "outputs": [],
   "source": [
    "img_color = cv2.imread('./image/red_ball.jpg',cv2.IMREAD_COLOR)"
   ]
  },
  {
   "cell_type": "code",
   "execution_count": 5,
   "id": "59d7eeeb",
   "metadata": {},
   "outputs": [
    {
     "data": {
      "text/plain": [
       "102"
      ]
     },
     "execution_count": 5,
     "metadata": {},
     "output_type": "execute_result"
    }
   ],
   "source": [
    "cv2.imshow('Color',img_color)\n",
    "cv2.waitKey(0)\n",
    "\n",
    "img_gray = cv2.cvtColor(img_color,cv2.COLOR_BGR2GRAY)\n",
    "cv2.imshow('Gray', img_gray)\n",
    "cv2.waitKey(0)"
   ]
  },
  {
   "cell_type": "code",
   "execution_count": 6,
   "id": "a7261120",
   "metadata": {},
   "outputs": [],
   "source": [
    "while(True): # 트랙바 이동시 결과 바로 확인\n",
    "    low = cv2.getTrackbarPos('threshold', 'Binary')\n",
    "    \n",
    "    ret,img_binary = cv2.threshold(img_gray, low, 255, cv2.THRESH_BINARY_INV) # 이미지 할 대상, 127를 기준으로 검은색/흰색\n",
    "    \n",
    "    cv2.imshow('Binary',img_binary)\n",
    "    \n",
    "    img_result = cv2.bitwise_and(img_color, img_color, mask = img_binary)\n",
    "    cv2.imshow('Result',img_result) # 배경과 공 추출\n",
    "    \n",
    "    if cv2.waitKey(1)&0xFF == 27: # esc 누르면 종료\n",
    "        break"
   ]
  },
  {
   "cell_type": "code",
   "execution_count": 7,
   "id": "a9709f95",
   "metadata": {},
   "outputs": [],
   "source": [
    "cv2.destroyAllWindows()"
   ]
  }
 ],
 "metadata": {
  "kernelspec": {
   "display_name": "Python 3 (ipykernel)",
   "language": "python",
   "name": "python3"
  },
  "language_info": {
   "codemirror_mode": {
    "name": "ipython",
    "version": 3
   },
   "file_extension": ".py",
   "mimetype": "text/x-python",
   "name": "python",
   "nbconvert_exporter": "python",
   "pygments_lexer": "ipython3",
   "version": "3.9.6"
  }
 },
 "nbformat": 4,
 "nbformat_minor": 5
}

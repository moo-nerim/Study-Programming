{
 "cells": [
  {
   "cell_type": "code",
   "execution_count": 1,
   "id": "e18c5dc2",
   "metadata": {},
   "outputs": [
    {
     "name": "stdout",
     "output_type": "stream",
     "text": [
      "4.5.4\n"
     ]
    }
   ],
   "source": [
    "import cv2\n",
    "print(cv2.__version__)"
   ]
  },
  {
   "cell_type": "code",
   "execution_count": 2,
   "id": "8cceaaa6",
   "metadata": {},
   "outputs": [],
   "source": [
    "img_color = cv2.imread('./image/ball.jpg',cv2.IMREAD_COLOR) # 이미지 경로, flag -> IMREAD_COLOR (이미지 파일을 color로 읽음)"
   ]
  },
  {
   "cell_type": "code",
   "execution_count": 3,
   "id": "4ddfa61f",
   "metadata": {},
   "outputs": [],
   "source": [
    "cv2.namedWindow('Show Image')\n",
    "cv2.imshow('Show Image', img_color) # 이미지 식별자, 보여줄 변수"
   ]
  },
  {
   "cell_type": "code",
   "execution_count": 4,
   "id": "fe2a2fef",
   "metadata": {},
   "outputs": [
    {
     "data": {
      "text/plain": [
       "101"
      ]
     },
     "execution_count": 4,
     "metadata": {},
     "output_type": "execute_result"
    }
   ],
   "source": [
    "cv2.waitKey(0) # 키보드 입력 무한대기"
   ]
  },
  {
   "cell_type": "markdown",
   "id": "d97a3491",
   "metadata": {},
   "source": [
    "## 그레이스케일 이미지로 변환(흑백사진)"
   ]
  },
  {
   "cell_type": "code",
   "execution_count": 5,
   "id": "0782191f",
   "metadata": {},
   "outputs": [],
   "source": [
    "img_gray = cv2.cvtColor(img_color, cv2.COLOR_BGR2GRAY) # 변환할 이미지, 그레이스케일"
   ]
  },
  {
   "cell_type": "code",
   "execution_count": 6,
   "id": "99f6730f",
   "metadata": {},
   "outputs": [
    {
     "data": {
      "text/plain": [
       "101"
      ]
     },
     "execution_count": 6,
     "metadata": {},
     "output_type": "execute_result"
    }
   ],
   "source": [
    "cv2.imshow('Show GrayScale Image', img_gray)\n",
    "cv2.waitKey(0)"
   ]
  },
  {
   "cell_type": "code",
   "execution_count": 7,
   "id": "a9f84e34",
   "metadata": {},
   "outputs": [],
   "source": [
    "cv2.destroyAllWindows()"
   ]
  },
  {
   "cell_type": "markdown",
   "id": "33bf60c7",
   "metadata": {},
   "source": [
    "## 이미지 저장하기"
   ]
  },
  {
   "cell_type": "code",
   "execution_count": 9,
   "id": "d6e2c565",
   "metadata": {},
   "outputs": [
    {
     "data": {
      "text/plain": [
       "True"
      ]
     },
     "execution_count": 9,
     "metadata": {},
     "output_type": "execute_result"
    }
   ],
   "source": [
    "cv2.imwrite('./image/savedimage.jpg',img_gray) # 파일 이름, 이미지 변수"
   ]
  }
 ],
 "metadata": {
  "kernelspec": {
   "display_name": "Python 3 (ipykernel)",
   "language": "python",
   "name": "python3"
  },
  "language_info": {
   "codemirror_mode": {
    "name": "ipython",
    "version": 3
   },
   "file_extension": ".py",
   "mimetype": "text/x-python",
   "name": "python",
   "nbconvert_exporter": "python",
   "pygments_lexer": "ipython3",
   "version": "3.9.6"
  }
 },
 "nbformat": 4,
 "nbformat_minor": 5
}
